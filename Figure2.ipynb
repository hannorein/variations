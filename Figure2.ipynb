{
 "cells": [
  {
   "cell_type": "markdown",
   "metadata": {},
   "source": [
    "# Figure 2\n",
    "\n",
    "This notebook recreates Figure 1 in Rein & Tamayo 2016. The figure illustrates the use of second order variational equations and Newton's method in a simple optimization problem.\n",
    "\n",
    "We start by import the REBOUND, numpy and matplotlib packages. "
   ]
  },
  {
   "cell_type": "code",
   "execution_count": 3,
   "metadata": {
    "collapsed": false
   },
   "outputs": [],
   "source": [
    "import rebound\n",
    "import numpy as np\n",
    "%matplotlib inline\n",
    "import matplotlib\n",
    "import matplotlib.pyplot as plt"
   ]
  },
  {
   "cell_type": "markdown",
   "metadata": {},
   "source": [
    "We create a function that runs an $N$-body simulation of two planets for 10 orbits. The initial semi-major axis of the outer planet is a free parameter. The function returns the final $x$ coordinate of the inner planet as well as the corresponding coordinates of first and second order variational particles. The variational particles are initialized with the `vary()` function to correspond to varying the outer planet's semi-major axis. Note that this function is identical to the one for Figure 1. "
   ]
  },
  {
   "cell_type": "code",
   "execution_count": 4,
   "metadata": {
    "collapsed": true
   },
   "outputs": [],
   "source": [
    "def run_sim_var(a):\n",
    "    sim = rebound.Simulation()\n",
    "    sim.add(m=1.)\n",
    "    sim.add(primary=sim.particles[0],m=1e-3, a=1)\n",
    "    sim.add(primary=sim.particles[0],m=1e-3, a=a)\n",
    "    var_da = sim.add_variation()\n",
    "    var_dda = sim.add_variation(order=2,first_order=var_da)\n",
    "    var_da.vary(2,\"a\")\n",
    "    var_dda.vary(2,\"a\")\n",
    "    \n",
    "    sim.integrate(2.*np.pi*10.)\n",
    "    return sim.particles[1].x, var_da.particles[1].x, var_dda.particles[1].x"
   ]
  },
  {
   "cell_type": "markdown",
   "metadata": {},
   "source": [
    "Next, we run Newton's method for 14 iterations. We start at $a=1.56$. This is the value indicate by the a red dot in Figure 1."
   ]
  },
  {
   "cell_type": "code",
   "execution_count": 5,
   "metadata": {
    "collapsed": false
   },
   "outputs": [],
   "source": [
    "N=14\n",
    "a = 1.56\n",
    "x_chain = np.zeros(N)\n",
    "for i in range(N):\n",
    "    x, dxda, ddxdda = run_sim_var(a)\n",
    "    x_chain[i] = x\n",
    "    Delta_a = -dxda/ddxdda\n",
    "    a += Delta_a"
   ]
  },
  {
   "cell_type": "markdown",
   "metadata": {},
   "source": [
    "To illustrate the fast convergence of Newton's method, we plot the relative error of the inner planet's final position from the *optimum*. We here choose the final value in the iteration as the optimum. "
   ]
  },
  {
   "cell_type": "code",
   "execution_count": 8,
   "metadata": {
    "collapsed": false
   },
   "outputs": [
    {
     "data": {
      "image/png": "[encoded data removed]",
      "text/plain": [
       "<matplotlib.figure.Figure at 0x11230b350>"
      ]
     },
     "metadata": {},
     "output_type": "display_data"
    }
   ],
   "source": [
    "fig = plt.figure(figsize=(6,4))\n",
    "ax = plt.subplot(111)\n",
    "ax.set_xlabel(\"iterations\")\n",
    "ax.set_ylabel(\"relative error\")\n",
    "ax.set_yscale('log')\n",
    "ax.plot(range(N), np.fabs((x_chain-x_chain[-1])/x_chain[-1])+1e-16,\"ro-\", color=\"black\")\n",
    "plt.savefig('paper_test2.pdf',bbox_inches='tight') "
   ]
  },
  {
   "cell_type": "markdown",
   "metadata": {
    "collapsed": true
   },
   "source": [
    "Note that the Newton's method will only find a local optimum."
   ]
  },
  {
   "cell_type": "code",
   "execution_count": null,
   "metadata": {
    "collapsed": true
   },
   "outputs": [],
   "source": []
  }
 ],
 "metadata": {
  "kernelspec": {
   "display_name": "Python 2",
   "language": "python",
   "name": "python2"
  },
  "language_info": {
   "codemirror_mode": {
    "name": "ipython",
    "version": 2
   },
   "file_extension": ".py",
   "mimetype": "text/x-python",
   "name": "python",
   "nbconvert_exporter": "python",
   "pygments_lexer": "ipython2",
   "version": "2.7.10"
  }
 },
 "nbformat": 4,
 "nbformat_minor": 0
}
