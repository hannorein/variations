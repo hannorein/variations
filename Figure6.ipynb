{
 "cells": [
  {
   "cell_type": "markdown",
   "metadata": {},
   "source": [
    "# Figure 6\n",
    "This notebook recreates Figure 6 in Rein & Tamayo 2016. The figure illustrates the scaling of second order variational equations as a function of the number of varied parameters.\n",
    "\n",
    "We start by import the REBOUND, numpy and matplotlib packages. "
   ]
  },
  {
   "cell_type": "code",
   "execution_count": 29,
   "metadata": {
    "collapsed": false
   },
   "outputs": [
    {
     "name": "stdout",
     "output_type": "stream",
     "text": [
      "Feb 15 2016 12:13:46\n"
     ]
    }
   ],
   "source": [
    "import rebound\n",
    "import numpy as np\n",
    "%matplotlib inline\n",
    "import matplotlib\n",
    "import matplotlib.pyplot as plt\n",
    "from matplotlib.colors import LogNorm\n",
    "from timeit import Timer\n",
    "print(rebound.__build__)"
   ]
  },
  {
   "cell_type": "markdown",
   "metadata": {},
   "source": [
    "The following function initialises a simulation and adds a given number of variational parameters. It then runs the simulation for 100 time units."
   ]
  },
  {
   "cell_type": "code",
   "execution_count": 30,
   "metadata": {
    "collapsed": false
   },
   "outputs": [],
   "source": [
    "def evaluate(order=0,N=0, integrator=\"ias15\"):\n",
    "    sim = rebound.Simulation()\n",
    "    sim.integrator = integrator\n",
    "    sim.add(m=1.)\n",
    "    sim.add(primary=sim.particles[0],m=1e-3, a=1)\n",
    "    sim.add(primary=sim.particles[0],m=1e-3, a=1.8,f=1.4)\n",
    "    \n",
    "    vs = [\"a\",\"e\",\"i\",\"omega\",\"Omega\",\"f\",\"m\"]\n",
    "    var = []\n",
    "    if order>=1:\n",
    "        for i in range(N):\n",
    "            pi = 1\n",
    "            shifti = 0\n",
    "            if i>=7:\n",
    "                pi = 2\n",
    "                shifti = -7\n",
    "            var_d = sim.add_variation()\n",
    "            var_d.vary(pi,vs[i+shifti])\n",
    "            var.append(var_d)\n",
    "        if order >=2:\n",
    "            for i in range(N):\n",
    "                pi = 1\n",
    "                shifti = 0\n",
    "                if i>=7:\n",
    "                    pi = 2\n",
    "                    shifti = -7\n",
    "                for j in range(i,N):\n",
    "                    pj = 1\n",
    "                    shiftj = 0\n",
    "                    if j>=7:\n",
    "                        pj = 2\n",
    "                        shiftj = -7\n",
    "                    var_dd = sim.add_variation(order=2,first_order=var[i+shifti],first_order_2=var[j+shiftj])\n",
    "                    if pi==pj:\n",
    "                        var_dd.vary(pi,vs[i+shifti],vs[j+shiftj])\n",
    "    \n",
    "    sim.move_to_com()\n",
    "    sim.integrate(100.)\n",
    "             \n",
    "    return "
   ]
  },
  {
   "cell_type": "markdown",
   "metadata": {},
   "source": [
    "Wrapper function to make `evaluate()` callable from a timer. "
   ]
  },
  {
   "cell_type": "code",
   "execution_count": 26,
   "metadata": {
    "collapsed": false
   },
   "outputs": [],
   "source": [
    "def evaluateWithN(order,N,integrator=\"ias15\"):\n",
    "    def _e():\n",
    "        evaluate(order,N,integrator)\n",
    "        pass\n",
    "    return _e"
   ]
  },
  {
   "cell_type": "markdown",
   "metadata": {},
   "source": [
    "We now run the timing test for different numbers of parameters. "
   ]
  },
  {
   "cell_type": "code",
   "execution_count": 31,
   "metadata": {
    "collapsed": false
   },
   "outputs": [],
   "source": [
    "Nmax = 15\n",
    "repeat = 1\n",
    "t = Timer(evaluateWithN(0,0))\n",
    "var_0 = t.timeit(repeat*2)/2.\n",
    "var_1 = np.zeros(Nmax)\n",
    "var_2 = np.zeros(Nmax)\n",
    "for i in range(Nmax):\n",
    "    t = Timer(evaluateWithN(1,i))\n",
    "    var_1[i] = t.timeit(repeat)\n",
    "    t = Timer(evaluateWithN(2,i))\n",
    "    var_2[i] = t.timeit(repeat)    "
   ]
  },
  {
   "cell_type": "markdown",
   "metadata": {},
   "source": [
    "The following plot show the runtime of the simulation with variational equations compared to one without."
   ]
  },
  {
   "cell_type": "code",
   "execution_count": 32,
   "metadata": {
    "collapsed": false
   },
   "outputs": [
    {
     "data": {
      "image/png": "[encoded data removed]",
      "text/plain": [
       "<matplotlib.figure.Figure at 0x106b94350>"
      ]
     },
     "metadata": {},
     "output_type": "display_data"
    }
   ],
   "source": [
    "matplotlib.rcParams['legend.numpoints'] = 1\n",
    "fig = plt.figure(figsize=(6,4))\n",
    "ax = plt.subplot(111)\n",
    "#ax.set_xlim(extent[0],extent[1])\n",
    "ax.set_xlabel(\"number of variations, $N_{\\\\rm{par}}$\")\n",
    "ax.set_xlim(0,Nmax-1)\n",
    "ax.set_ylim(0.8,550)\n",
    "#ax.set_xscale(\"log\")\n",
    "ax.set_yscale(\"log\")\n",
    "\n",
    "\n",
    "ax.set_ylabel(\"runtime relative to no variations\")\n",
    "ax.plot(range(Nmax),np.ones(Nmax),\"o-\", color=\"black\", label=\"no variations\")\n",
    "ax.plot(range(Nmax),var_1/var_0,\"s-.\", color=\"red\", label=\"1st order variations\")\n",
    "ax.plot(range(Nmax),var_2/var_0,\"*:\", color=\"green\", label=\"1st and 2nd order variations\")\n",
    "\n",
    "legend = plt.legend(loc=2)\n",
    "ax = plt.gca().add_artist(legend)\n",
    "plt.savefig('paper_test5.pdf',bbox_inches='tight')"
   ]
  },
  {
   "cell_type": "code",
   "execution_count": null,
   "metadata": {
    "collapsed": true
   },
   "outputs": [],
   "source": []
  }
 ],
 "metadata": {
  "kernelspec": {
   "display_name": "Python 2",
   "language": "python",
   "name": "python2"
  },
  "language_info": {
   "codemirror_mode": {
    "name": "ipython",
    "version": 2
   },
   "file_extension": ".py",
   "mimetype": "text/x-python",
   "name": "python",
   "nbconvert_exporter": "python",
   "pygments_lexer": "ipython2",
   "version": "2.7.10"
  }
 },
 "nbformat": 4,
 "nbformat_minor": 0
}
