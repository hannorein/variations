{
 "cells": [
  {
   "cell_type": "markdown",
   "metadata": {},
   "source": [
    "# Runtime test"
   ]
  },
  {
   "cell_type": "code",
   "execution_count": 1,
   "metadata": {
    "collapsed": false
   },
   "outputs": [
    {
     "name": "stderr",
     "output_type": "stream",
     "text": [
      "/Users/rein/git/rebound/venv/lib/python2.7/site-packages/matplotlib/font_manager.py:273: UserWarning: Matplotlib is building the font cache using fc-list. This may take a moment.\n",
      "  warnings.warn('Matplotlib is building the font cache using fc-list. This may take a moment.')\n"
     ]
    }
   ],
   "source": [
    "import rebound\n",
    "import numpy as np\n",
    "%matplotlib inline\n",
    "import matplotlib\n",
    "import matplotlib.pyplot as plt\n",
    "from matplotlib.colors import LogNorm\n",
    "from timeit import Timer"
   ]
  },
  {
   "cell_type": "code",
   "execution_count": 17,
   "metadata": {
    "collapsed": false
   },
   "outputs": [],
   "source": [
    "def evaluate(order=0,N=0):\n",
    "    sim = rebound.Simulation()\n",
    "    sim.add(m=1.)\n",
    "    sim.add(primary=sim.particles[0],m=1e-3, a=1)\n",
    "    sim.add(primary=sim.particles[0],m=1e-3, a=1.8,f=1.4)\n",
    "    \n",
    "    vs = [\"a\",\"e\",\"i\",\"omega\",\"Omega\",\"f\",\"m\"]\n",
    "    var = []\n",
    "    if order>=1:\n",
    "        for i in range(N):\n",
    "            pi = 1\n",
    "            shifti = 0\n",
    "            if i>=7:\n",
    "                pi = 2\n",
    "                shifti = -7\n",
    "            var_d = sim.add_variation()\n",
    "            var_d.vary(pi,vs[i+shifti])\n",
    "            var.append(var_d)\n",
    "        if order >=2:\n",
    "            for i in range(N):\n",
    "                pi = 1\n",
    "                shifti = 0\n",
    "                if i>=7:\n",
    "                    pi = 2\n",
    "                    shifti = -7\n",
    "                for j in range(i,N):\n",
    "                    pj = 1\n",
    "                    shiftj = 0\n",
    "                    if j>=7:\n",
    "                        pj = 2\n",
    "                        shiftj = -7\n",
    "                    var_dd = sim.add_variation(order=2,first_order=var[i+shifti],first_order_2=var[j+shiftj])\n",
    "                    if pi==pj:\n",
    "                        var_dd.vary(pi,vs[i+shifti],vs[j+shiftj])\n",
    "    \n",
    "    sim.move_to_com()\n",
    "    sim.integrate(100.)\n",
    "             \n",
    "    return "
   ]
  },
  {
   "cell_type": "code",
   "execution_count": 18,
   "metadata": {
    "collapsed": false
   },
   "outputs": [],
   "source": [
    "def evaluateWithN(order,N):\n",
    "    def _e():\n",
    "        evaluate(order,N)\n",
    "        pass\n",
    "    return _e"
   ]
  },
  {
   "cell_type": "code",
   "execution_count": 68,
   "metadata": {
    "collapsed": false
   },
   "outputs": [],
   "source": [
    "Nmax = 15\n",
    "repeat = 8\n",
    "t = Timer(evaluateWithN(0,i))\n",
    "var_0 = t.timeit(repeat*2)/2.\n",
    "var_1 = np.zeros(Nmax)\n",
    "var_2 = np.zeros(Nmax)\n",
    "for i in range(Nmax):\n",
    "    t = Timer(evaluateWithN(1,i))\n",
    "    var_1[i] = t.timeit(repeat)\n",
    "    t = Timer(evaluateWithN(2,i))\n",
    "    var_2[i] = t.timeit(repeat)    "
   ]
  },
  {
   "cell_type": "code",
   "execution_count": 72,
   "metadata": {
    "collapsed": false
   },
   "outputs": [
    {
     "data": {
      "image/png": "[encoded data removed]",
      "text/plain": [
       "<matplotlib.figure.Figure at 0x11273c090>"
      ]
     },
     "metadata": {},
     "output_type": "display_data"
    }
   ],
   "source": [
    "matplotlib.rcParams['legend.numpoints'] = 1\n",
    "fig = plt.figure(figsize=(6,4))\n",
    "ax = plt.subplot(111)\n",
    "#ax.set_xlim(extent[0],extent[1])\n",
    "ax.set_xlabel(\"number of variations, $N_{\\\\rm{par}}$\")\n",
    "ax.set_xlim(0,Nmax-1)\n",
    "ax.set_ylim(0.8,550)\n",
    "#ax.set_xscale(\"log\")\n",
    "ax.set_yscale(\"log\")\n",
    "\n",
    "\n",
    "ax.set_ylabel(\"runtime relative to no variations\")\n",
    "ax.plot(range(Nmax),np.ones(Nmax),\"o-\", color=\"black\", label=\"no variations\")\n",
    "ax.plot(range(Nmax),var_1/var_0,\"s-.\", color=\"red\", label=\"1st order variations\")\n",
    "ax.plot(range(Nmax),var_2/var_0,\"*:\", color=\"green\", label=\"1st and 2nd order variations\")\n",
    "\n",
    "legend = plt.legend(loc=2)\n",
    "ax = plt.gca().add_artist(legend)\n",
    "plt.savefig('paper_test5.pdf',bbox_inches='tight')"
   ]
  },
  {
   "cell_type": "code",
   "execution_count": null,
   "metadata": {
    "collapsed": true
   },
   "outputs": [],
   "source": []
  },
  {
   "cell_type": "code",
   "execution_count": null,
   "metadata": {
    "collapsed": true
   },
   "outputs": [],
   "source": []
  },
  {
   "cell_type": "code",
   "execution_count": null,
   "metadata": {
    "collapsed": true
   },
   "outputs": [],
   "source": []
  },
  {
   "cell_type": "code",
   "execution_count": null,
   "metadata": {
    "collapsed": true
   },
   "outputs": [],
   "source": []
  },
  {
   "cell_type": "code",
   "execution_count": null,
   "metadata": {
    "collapsed": true
   },
   "outputs": [],
   "source": []
  }
 ],
 "metadata": {
  "kernelspec": {
   "display_name": "Python 2",
   "language": "python",
   "name": "python2"
  },
  "language_info": {
   "codemirror_mode": {
    "name": "ipython",
    "version": 2
   },
   "file_extension": ".py",
   "mimetype": "text/x-python",
   "name": "python",
   "nbconvert_exporter": "python",
   "pygments_lexer": "ipython2",
   "version": "2.7.10"
  }
 },
 "nbformat": 4,
 "nbformat_minor": 0
}
