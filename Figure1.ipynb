{
 "cells": [
  {
   "cell_type": "markdown",
   "metadata": {},
   "source": [
    "# Figure 1\n",
    "\n",
    "This notebook recreates Figure 1 in Rein & Tamayo 2016. The figure illustrates the use of second order variational equations in an $N$-body simulation.\n",
    "\n",
    "We start by import the REBOUND, numpy and matplotlib packages. "
   ]
  },
  {
   "cell_type": "code",
   "execution_count": 2,
   "metadata": {
    "collapsed": false
   },
   "outputs": [],
   "source": [
    "import rebound\n",
    "import numpy as np\n",
    "%matplotlib inline\n",
    "import matplotlib\n",
    "import matplotlib.pyplot as plt"
   ]
  },
  {
   "cell_type": "markdown",
   "metadata": {},
   "source": [
    "We setup a planetary system with two Jupiter mass planets. The following function takes that system, integrates it forward in time by 10 orbits and returns the inner planet's $x$ coordinate at the end of the simulation. The $x$ coordinate changes because the planet orbits the star, but also because the planet interacts with the other planet. The function takes the outer planet's initial semi-major axis, $a$, as a parameter. We setup the system using heliocentric coordinates and therefore specify the `primary` attribute when adding particles to REBOUND (by default REBOUND uses Jacobi coordinates which are not supported by variational equations)."
   ]
  },
  {
   "cell_type": "code",
   "execution_count": 4,
   "metadata": {
    "collapsed": false
   },
   "outputs": [],
   "source": [
    "def run_sim(a):\n",
    "    sim = rebound.Simulation()\n",
    "    sim.add(m=1.)\n",
    "    sim.add(primary=sim.particles[0],m=1e-3, a=1)\n",
    "    sim.add(primary=sim.particles[0],m=1e-3, a=a)\n",
    "    \n",
    "    sim.integrate(2.*np.pi*10.)\n",
    "    return sim.particles[1].x"
   ]
  },
  {
   "cell_type": "markdown",
   "metadata": {},
   "source": [
    "We now run this simulation 400 times for different initial $a$ in the range [1.4, 1.7] and store the final $x$ coordinate of the inner planet in the array `x_exact`."
   ]
  },
  {
   "cell_type": "code",
   "execution_count": 5,
   "metadata": {
    "collapsed": false
   },
   "outputs": [],
   "source": [
    "N=400\n",
    "x_exact = np.zeros((N))\n",
    "a_grid = np.linspace(1.4,1.7,N)\n",
    "for i,a in enumerate(a_grid):\n",
    "    x_exact[i] = run_sim(a)"
   ]
  },
  {
   "cell_type": "markdown",
   "metadata": {},
   "source": [
    "Next, we create a function that runs an $N$-body simulation including first and second order differential equations. For that we add two sets of variational particles with the `add_variation()` command (one for first order and one for second order). We then initialize the variational particles by varying the outer planet's semi-major axis. After integrating the system forward in time, the function returns the $x$ coordinate of the inner planet as well as the $x$ coordinate of the corresponding variational particles: $\\partial x/\\partial a$ and $\\partial^2 x/\\partial a^2$. Note that the variational particles' *position coordinates* are thus unit-less. "
   ]
  },
  {
   "cell_type": "code",
   "execution_count": 6,
   "metadata": {
    "collapsed": true
   },
   "outputs": [],
   "source": [
    "def run_sim_var(a):\n",
    "    sim = rebound.Simulation()\n",
    "    sim.add(m=1.)\n",
    "    sim.add(primary=sim.particles[0],m=1e-3, a=1)\n",
    "    sim.add(primary=sim.particles[0],m=1e-3, a=a)\n",
    "    var_da = sim.add_variation()\n",
    "    var_dda = sim.add_variation(order=2, first_order=var_da)\n",
    "    var_da.vary(2, \"a\")\n",
    "    var_dda.vary(2, \"a\")\n",
    "    \n",
    "    sim.integrate(2.*np.pi*10.)\n",
    "    return sim.particles[1].x, var_da.particles[1].x, var_dda.particles[1].x"
   ]
  },
  {
   "cell_type": "markdown",
   "metadata": {},
   "source": [
    "We run **one** simulation with variational particles at $a_0=1.56$. We then use the derivates we got from the `run_sim_var()` function to approximate the final position of the inner planet as a function of the outer planet's initial semi-major axis using a Taylor series:\n",
    "$$x(a) = x(a_0)+\\frac{\\partial x}{\\partial a}\\Big|_{a_0} (a-a_0)+\\frac 12\\frac{\\partial^2 x}{\\partial a^2}\\Big|_{a_0} (a-a_0)^2 + \\ldots$$\n",
    "We do this to both first and second order."
   ]
  },
  {
   "cell_type": "code",
   "execution_count": 7,
   "metadata": {
    "collapsed": false
   },
   "outputs": [],
   "source": [
    "a_0 = 1.56\n",
    "x, dxda, ddxdda = run_sim_var(a_0)\n",
    "x_1st_order = np.zeros(N)\n",
    "x_2nd_order = np.zeros(N)\n",
    "for i,a in enumerate(a_grid):\n",
    "    x_1st_order[i] = x + (a-a_0)*dxda\n",
    "    x_2nd_order[i] = x + (a-a_0)*dxda + 0.5*(a-a_0)*(a-a_0)*ddxdda"
   ]
  },
  {
   "cell_type": "markdown",
   "metadata": {},
   "source": [
    "Finally, we plot the exact final position that we obtained from running a full $N$-body simulation as well as our approximation near a neighbourhood of $a_0$ which we got from the variational equations. "
   ]
  },
  {
   "cell_type": "code",
   "execution_count": 8,
   "metadata": {
    "collapsed": false
   },
   "outputs": [
    {
     "data": {
      "image/png": "[encoded data removed]",
      "text/plain": [
       "<matplotlib.figure.Figure at 0x7ff7082d62b0>"
      ]
     },
     "metadata": {},
     "output_type": "display_data"
    }
   ],
   "source": [
    "fig = plt.figure(figsize=(6,4))\n",
    "ax = plt.subplot(111)\n",
    "ax.set_xlim(a_grid[0],a_grid[-1])\n",
    "ax.set_ylim(np.min(x_exact),np.max(x_exact)*1.01)\n",
    "ax.set_xlabel(\"initial semi-major axis of outer planet\")\n",
    "ax.set_ylabel(\"$x$ position of inner planet after 10 orbits\")\n",
    "ax.plot(a_grid, x_exact, \"-\", color=\"black\", lw=2)\n",
    "ax.plot(a_grid, x_1st_order, \"--\", color=\"green\")\n",
    "ax.plot(a_grid, x_2nd_order, \":\", color=\"blue\")\n",
    "ax.plot(a_0, x, \"ro\",ms=10);\n",
    "plt.savefig('paper_test1.pdf',bbox_inches='tight');  # Save to file. "
   ]
  },
  {
   "cell_type": "code",
   "execution_count": null,
   "metadata": {
    "collapsed": true
   },
   "outputs": [],
   "source": []
  }
 ],
 "metadata": {
  "kernelspec": {
   "display_name": "Python 3",
   "language": "python",
   "name": "python3"
  },
  "language_info": {
   "codemirror_mode": {
    "name": "ipython",
    "version": 3
   },
   "file_extension": ".py",
   "mimetype": "text/x-python",
   "name": "python",
   "nbconvert_exporter": "python",
   "pygments_lexer": "ipython3",
   "version": "3.4.2"
  }
 },
 "nbformat": 4,
 "nbformat_minor": 0
}
